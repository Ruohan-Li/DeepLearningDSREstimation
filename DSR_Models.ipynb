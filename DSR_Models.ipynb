{
 "cells": [
  {
   "cell_type": "code",
   "execution_count": 3,
   "id": "e64497e9",
   "metadata": {},
   "outputs": [
    {
     "name": "stdout",
     "output_type": "stream",
     "text": [
      "Num GPUs Available:  1\n",
      "Num GPUs Available:  [PhysicalDevice(name='/physical_device:GPU:0', device_type='GPU')]\n"
     ]
    }
   ],
   "source": [
    "import pandas as pd\n",
    "import os\n",
    "os.environ[\"CUDA_VISIBLE_DEVICES\"]=\"1\"\n",
    "CUDA_VISIBLE_DEVICES=1\n",
    "import tensorflow as tf\n",
    "print(\"Num GPUs Available: \", len(tf.config.experimental.list_physical_devices('GPU')))\n",
    "print(\"Num GPUs Available: \", tf.config.experimental.list_physical_devices('GPU'))\n",
    "\n",
    "import numpy as np\n",
    "import pandas as pd\n",
    "import pickle\n",
    "from tensorflow import keras\n",
    "\n",
    "from tensorflow.keras.metrics import RootMeanSquaredError as rmse\n",
    "from tensorflow.keras.models import load_model\n",
    "from keras import regularizers\n",
    "from keras import backend\n",
    "from keras.layers import Dropout, Input, BatchNormalization, concatenate, Activation, MaxPooling2D, AveragePooling2D, Flatten, Masking\n",
    "from keras.layers import Bidirectional, GRU, Conv2D, TimeDistributed, LSTM, Dense\n",
    "from keras.models import Model, Sequential\n",
    "\n",
    "def RMSE(y_true, y_pred):\n",
    "\treturn backend.sqrt(backend.mean(backend.square(y_pred - y_true)))\n",
    "\n",
    "def BIAS(y_true, y_pred):\n",
    "\treturn backend.mean((y_pred - y_true), axis=-1)\n"
   ]
  },
  {
   "cell_type": "markdown",
   "id": "584df676",
   "metadata": {},
   "source": [
    "MLP Model"
   ]
  },
  {
   "cell_type": "code",
   "execution_count": 4,
   "id": "986776ef",
   "metadata": {},
   "outputs": [],
   "source": [
    "def build_model_mlp(trainX):\n",
    "    model=Sequential()\n",
    "    model.add(Dense(25,activation='relu',input_shape=(trainX.shape[1],)))\n",
    "    model.add(Dense(5,activation='relu'))\n",
    "    model.add(Dense(1))\n",
    "    model.compile(optimizer='rmsprop',loss='mse',metrics=[RMSE,BIAS])\n",
    "    return model\n"
   ]
  },
  {
   "cell_type": "markdown",
   "id": "6d6ce762",
   "metadata": {},
   "source": [
    "BIGRU Model"
   ]
  },
  {
   "cell_type": "code",
   "execution_count": 5,
   "id": "a51b38bc",
   "metadata": {},
   "outputs": [],
   "source": [
    "def build_model_bigru(trainX):\n",
    "    model = Sequential()\n",
    "    model.add(Bidirectional(GRU(32,  input_shape=(trainX.shape[1], trainX.shape[2]), return_sequences=True)))\n",
    "    model.add(Dense(units=25, activation='relu'))\n",
    "    model.add(Dense(units=5, activation='relu'))\n",
    "    model.add(Dense(units=1))\n",
    "    adam = keras.optimizers.Adam(lr=0.001)\n",
    "    model.compile(optimizer=adam, loss='mse',metrics=[RMSE,BIAS])\n",
    "    return model"
   ]
  },
  {
   "cell_type": "markdown",
   "id": "28d794a0",
   "metadata": {},
   "source": [
    "DenseNET Model"
   ]
  },
  {
   "cell_type": "code",
   "execution_count": null,
   "id": "e9a620a4",
   "metadata": {},
   "outputs": [],
   "source": [
    "def conv_layer(conv_x, filters):\n",
    "    conv_x = BatchNormalization()(conv_x)\n",
    "    conv_x = Activation('relu')(conv_x)\n",
    "    conv_x = Conv2D(filters, (3, 3), kernel_initializer='he_uniform', padding='same', use_bias=False)(conv_x)\n",
    "    conv_x = Dropout(0.2)(conv_x)\n",
    "\n",
    "    return conv_x\n",
    "\n",
    "\n",
    "def dense_block(block_x, filters, growth_rate, layers_in_block):\n",
    "    for i in range(layers_in_block):\n",
    "        each_layer = conv_layer(block_x, growth_rate)\n",
    "        block_x = concatenate([block_x, each_layer], axis=-1)\n",
    "        filters += growth_rate\n",
    "\n",
    "    return block_x, filters\n",
    "\n",
    "\n",
    "def transition_block(trans_x, tran_filters):\n",
    "    trans_x = BatchNormalization()(trans_x)\n",
    "    trans_x = Activation('relu')(trans_x)\n",
    "    trans_x = Conv2D(tran_filters, (1, 1), kernel_initializer='he_uniform', padding='same', use_bias=False)(trans_x)\n",
    "    trans_x = AveragePooling2D((2, 2), strides=(2, 2))(trans_x)\n",
    "\n",
    "    return trans_x, tran_filters\n",
    "\n",
    "\n",
    "def dense_net(in_shape,out_shape,filters, growth_rate, dense_block_size, layers_in_block):\n",
    "    input_img = Input(shape=in_shape)\n",
    "    x = Conv2D(24, (3, 3), kernel_initializer='he_uniform', padding='same', use_bias=False)(input_img)\n",
    "\n",
    "    dense_x = BatchNormalization()(x)\n",
    "    dense_x = Activation('relu')(x)\n",
    "\n",
    "    dense_x = MaxPooling2D((3, 3), strides=(2, 2), padding='same')(dense_x)\n",
    "    for block in range(dense_block_size - 1):\n",
    "        dense_x, filters = dense_block(dense_x, filters, growth_rate, layers_in_block)\n",
    "        dense_x, filters = transition_block(dense_x, filters)\n",
    "\n",
    "    dense_x, filters = dense_block(dense_x, filters, growth_rate, layers_in_block)\n",
    "    dense_x = BatchNormalization()(dense_x)\n",
    "    dense_x = Activation('relu')(dense_x)\n",
    "    dense_x = Flatten()(dense_x)\n",
    "\n",
    "    output = Dense(out_shape, activation='relu')(dense_x)\n",
    "\n",
    "    return Model(input_img, output)\n",
    "\n",
    "dense_block_size = 3\n",
    "layers_in_block = 3\n",
    "growth_rate = 4\n",
    "model_merge = dense_net((26,26,26),1,growth_rate * 2, growth_rate, dense_block_size, layers_in_block)\n",
    "\n",
    "optimizer = keras.optimizers.RMSprop(lr=0.001)\n",
    "model_merge.compile(optimizer = optimizer, loss='mse',metrics=[RMSE,BIAS])"
   ]
  },
  {
   "cell_type": "markdown",
   "id": "569fb988",
   "metadata": {},
   "source": [
    "CNNGRU Model"
   ]
  },
  {
   "cell_type": "code",
   "execution_count": 8,
   "id": "46e5550f",
   "metadata": {},
   "outputs": [],
   "source": [
    "def build_model_cnngru(trainX):\n",
    "    shape = (trainX.shape[1], trainX.shape[2], trainX.shape[3], trainX.shape[4])\n",
    "    nLstmNeu=32\n",
    "\n",
    "    model = Sequential()\n",
    "    # --- CNN\n",
    "    model.add(TimeDistributed(Conv2D(filters=16,kernel_size=(3,3),padding='same',kernel_regularizer=regularizers.l2(l=0.01),\n",
    "                                     activation='relu',input_shape=shape)))\n",
    "    model.add(TimeDistributed(BatchNormalization()))\n",
    "    model.add(TimeDistributed(MaxPooling2D((2, 2))))\n",
    "    model.add(TimeDistributed(Conv2D(filters=32,kernel_size=(3,3),padding='same',kernel_regularizer=regularizers.l2(l=0.01),\n",
    "                                     activation='relu')))\n",
    "    model.add(TimeDistributed(BatchNormalization()))\n",
    "    model.add(TimeDistributed(MaxPooling2D((2, 2))))\n",
    "    model.add(TimeDistributed(Conv2D(filters=64,kernel_size=(3,3),padding='same',kernel_regularizer=regularizers.l2(l=0.1),\n",
    "                                      activation='relu')))\n",
    "    model.add(TimeDistributed(BatchNormalization()))\n",
    "    model.add(TimeDistributed(MaxPooling2D((2, 2))))\n",
    "    model.add(TimeDistributed(Flatten()))\n",
    "    #model.add(TimeDistributed(Dropout(0.5)))\n",
    "\n",
    "    # --- LSTM\n",
    "    model.add(Bidirectional(GRU(nLstmNeu, return_sequences=True, activation='tanh')))\n",
    "    model.add(TimeDistributed(Dense(8, activation='relu',\n",
    "                                    kernel_initializer=\"glorot_uniform\",kernel_regularizer=regularizers.l2(l=0.01))))\n",
    "    model.add(TimeDistributed(Dense(1, activation='relu',\n",
    "                                    kernel_initializer=\"glorot_uniform\",kernel_regularizer=regularizers.l2(l=0.01))))\n",
    "    # --- Optimizer \n",
    "    adam = keras.optimizers.Adam(lr=0.0005)\n",
    "    model.compile(optimizer=adam, loss='mse',metrics=[RMSE,BIAS])\n",
    "    \n",
    "    return model"
   ]
  },
  {
   "cell_type": "markdown",
   "id": "f08aedf7",
   "metadata": {},
   "source": [
    "Load reduced data and existing models"
   ]
  },
  {
   "cell_type": "code",
   "execution_count": 6,
   "id": "d49a4245",
   "metadata": {},
   "outputs": [],
   "source": [
    "#load data\n",
    "data = np.load('cnngru_data.npz',allow_pickle=True)\n",
    "cnngru_X,cnngru_Y = data['arr_0'], data['arr_1']\n",
    "#load models\n",
    "model=load_model('cnngru_model.h5',custom_objects={'RMSE':RMSE,'BIAS':BIAS})    #please note that cnngru and densenet models are trained with tensorflow 2.0.0, and load mlp and bigru models are trained with tensorflow 2.7.0 "
   ]
  }
 ],
 "metadata": {
  "kernelspec": {
   "display_name": "Python 3 (ipykernel)",
   "language": "python",
   "name": "python3"
  },
  "language_info": {
   "codemirror_mode": {
    "name": "ipython",
    "version": 3
   },
   "file_extension": ".py",
   "mimetype": "text/x-python",
   "name": "python",
   "nbconvert_exporter": "python",
   "pygments_lexer": "ipython3",
   "version": "3.7.0"
  }
 },
 "nbformat": 4,
 "nbformat_minor": 5
}
